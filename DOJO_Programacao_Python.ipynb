{
  "nbformat": 4,
  "nbformat_minor": 0,
  "metadata": {
    "colab": {
      "name": "DOJO-Programacao-Python.ipynb",
      "provenance": [],
      "authorship_tag": "ABX9TyNA1piRTIsZtU2B3Kkgt5tm",
      "include_colab_link": true
    },
    "kernelspec": {
      "name": "python3",
      "display_name": "Python 3"
    },
    "language_info": {
      "name": "python"
    }
  },
  "cells": [
    {
      "cell_type": "markdown",
      "metadata": {
        "id": "view-in-github",
        "colab_type": "text"
      },
      "source": [
        "<a href=\"https://colab.research.google.com/github/rickvig/dojo-analise-dados/blob/main/DOJO_Programacao_Python.ipynb\" target=\"_parent\"><img src=\"https://colab.research.google.com/assets/colab-badge.svg\" alt=\"Open In Colab\"/></a>"
      ]
    },
    {
      "cell_type": "code",
      "metadata": {
        "colab": {
          "base_uri": "https://localhost:8080/"
        },
        "id": "PzMGIG0AtILm",
        "outputId": "72820c77-3d62-4a9c-d0ec-62889e68c572"
      },
      "source": [
        "3.14*(2*2)"
      ],
      "execution_count": null,
      "outputs": [
        {
          "output_type": "execute_result",
          "data": {
            "text/plain": [
              "12.56"
            ]
          },
          "metadata": {
            "tags": []
          },
          "execution_count": 1
        }
      ]
    },
    {
      "cell_type": "code",
      "metadata": {
        "id": "S4KyUlb6tyPu"
      },
      "source": [
        "raio = 10.5"
      ],
      "execution_count": null,
      "outputs": []
    },
    {
      "cell_type": "code",
      "metadata": {
        "colab": {
          "base_uri": "https://localhost:8080/"
        },
        "id": "JZzpmhZot-Em",
        "outputId": "7952dd6b-b68f-40b8-e1fb-a9a652d5bab5"
      },
      "source": [
        "raio"
      ],
      "execution_count": null,
      "outputs": [
        {
          "output_type": "execute_result",
          "data": {
            "text/plain": [
              "10.5"
            ]
          },
          "metadata": {
            "tags": []
          },
          "execution_count": 3
        }
      ]
    },
    {
      "cell_type": "code",
      "metadata": {
        "colab": {
          "base_uri": "https://localhost:8080/"
        },
        "id": "GvfuFYnPuRtV",
        "outputId": "7f988808-38b5-4737-8667-cbdd27301f79"
      },
      "source": [
        "3.14*(raio*raio)"
      ],
      "execution_count": null,
      "outputs": [
        {
          "output_type": "execute_result",
          "data": {
            "text/plain": [
              "346.185"
            ]
          },
          "metadata": {
            "tags": []
          },
          "execution_count": 5
        }
      ]
    },
    {
      "cell_type": "markdown",
      "metadata": {
        "id": "OhAyhXdzusmM"
      },
      "source": [
        "para calcular a area do circulo seguimos a formula \n",
        "\n",
        "A = pi*r²"
      ]
    },
    {
      "cell_type": "code",
      "metadata": {
        "id": "NgPvoaFHycns"
      },
      "source": [
        "def area_do_circulo(raio):\n",
        "  area = 3.14*(raio*raio)\n",
        "  return area"
      ],
      "execution_count": null,
      "outputs": []
    },
    {
      "cell_type": "code",
      "metadata": {
        "colab": {
          "base_uri": "https://localhost:8080/"
        },
        "id": "nwyWGCshzFZw",
        "outputId": "46e943af-2970-4bf0-940f-5c90a5da7f17"
      },
      "source": [
        "area_do_circulo(10.5)"
      ],
      "execution_count": null,
      "outputs": [
        {
          "output_type": "execute_result",
          "data": {
            "text/plain": [
              "346.185"
            ]
          },
          "metadata": {
            "tags": []
          },
          "execution_count": 11
        }
      ]
    },
    {
      "cell_type": "code",
      "metadata": {
        "id": "pxSoIlQ5zQBY"
      },
      "source": [
        "arae_do_meuCirculo = area_do_circulo(raio)"
      ],
      "execution_count": null,
      "outputs": []
    },
    {
      "cell_type": "code",
      "metadata": {
        "colab": {
          "base_uri": "https://localhost:8080/"
        },
        "id": "-VoRyyiF5ya1",
        "outputId": "da949f4a-5f3b-44ec-b085-5165ba444bf8"
      },
      "source": [
        "type(arae_do_meuCirculo)"
      ],
      "execution_count": null,
      "outputs": [
        {
          "output_type": "execute_result",
          "data": {
            "text/plain": [
              "float"
            ]
          },
          "metadata": {
            "tags": []
          },
          "execution_count": 15
        }
      ]
    }
  ]
}