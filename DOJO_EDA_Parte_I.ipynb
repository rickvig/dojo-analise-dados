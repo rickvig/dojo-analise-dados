{
  "nbformat": 4,
  "nbformat_minor": 0,
  "metadata": {
    "colab": {
      "name": "DOJO-EDA-Parte-I.ipynb",
      "provenance": [],
      "authorship_tag": "ABX9TyMcXjlJxG+250CNnaKO8C4l",
      "include_colab_link": true
    },
    "kernelspec": {
      "name": "python3",
      "display_name": "Python 3"
    },
    "language_info": {
      "name": "python"
    }
  },
  "cells": [
    {
      "cell_type": "markdown",
      "metadata": {
        "id": "view-in-github",
        "colab_type": "text"
      },
      "source": [
        "<a href=\"https://colab.research.google.com/github/rickvig/dojo-analise-dados/blob/main/DOJO_EDA_Parte_I.ipynb\" target=\"_parent\"><img src=\"https://colab.research.google.com/assets/colab-badge.svg\" alt=\"Open In Colab\"/></a>"
      ]
    },
    {
      "cell_type": "code",
      "metadata": {
        "id": "4BTTTlLe1vt5"
      },
      "source": [
        "import pandas as pd"
      ],
      "execution_count": 1,
      "outputs": []
    },
    {
      "cell_type": "code",
      "metadata": {
        "id": "mHkGLnI33vxz"
      },
      "source": [
        "arquivo = 'fato_pedido_202103250922.csv'\n",
        "df = pd.read_csv(arquivo, dtype={'chave': str})"
      ],
      "execution_count": 3,
      "outputs": []
    },
    {
      "cell_type": "code",
      "metadata": {
        "colab": {
          "base_uri": "https://localhost:8080/"
        },
        "id": "LEA9MnsK582z",
        "outputId": "2982672e-f142-4fe0-8392-7d4de4744a3a"
      },
      "source": [
        "type(df)"
      ],
      "execution_count": 4,
      "outputs": [
        {
          "output_type": "execute_result",
          "data": {
            "text/plain": [
              "pandas.core.frame.DataFrame"
            ]
          },
          "metadata": {
            "tags": []
          },
          "execution_count": 4
        }
      ]
    },
    {
      "cell_type": "code",
      "metadata": {
        "colab": {
          "base_uri": "https://localhost:8080/",
          "height": 309
        },
        "id": "a9FoqoVH5g5m",
        "outputId": "76980ee0-ed44-4d47-cfe6-9e18ffb8d02e"
      },
      "source": [
        "df.head(5)"
      ],
      "execution_count": 11,
      "outputs": [
        {
          "output_type": "execute_result",
          "data": {
            "text/html": [
              "<div>\n",
              "<style scoped>\n",
              "    .dataframe tbody tr th:only-of-type {\n",
              "        vertical-align: middle;\n",
              "    }\n",
              "\n",
              "    .dataframe tbody tr th {\n",
              "        vertical-align: top;\n",
              "    }\n",
              "\n",
              "    .dataframe thead th {\n",
              "        text-align: right;\n",
              "    }\n",
              "</style>\n",
              "<table border=\"1\" class=\"dataframe\">\n",
              "  <thead>\n",
              "    <tr style=\"text-align: right;\">\n",
              "      <th></th>\n",
              "      <th>chave</th>\n",
              "      <th>numero_pedido</th>\n",
              "      <th>numero_pedido_aux1</th>\n",
              "      <th>numero_pedido_aux2</th>\n",
              "      <th>data_emissao</th>\n",
              "      <th>data_entrega</th>\n",
              "      <th>sequencia_item</th>\n",
              "      <th>situacao</th>\n",
              "      <th>quant_pedida</th>\n",
              "      <th>quant_faturada</th>\n",
              "      <th>quant_cancelada</th>\n",
              "      <th>quant_aberta</th>\n",
              "      <th>preco_unitario</th>\n",
              "      <th>valor_bruto</th>\n",
              "      <th>valor_desconto1</th>\n",
              "      <th>valor_desconto2</th>\n",
              "      <th>valor_liquido</th>\n",
              "      <th>valor_ipi</th>\n",
              "      <th>valor_imcs_substituicao_tributaria</th>\n",
              "      <th>valor_frete</th>\n",
              "      <th>percentual_comissao_vendedor1</th>\n",
              "      <th>percentual_comissao_vendedor2</th>\n",
              "      <th>media_desconto</th>\n",
              "      <th>bloqueado</th>\n",
              "      <th>observacao_pedido</th>\n",
              "      <th>numero_lote_pedido</th>\n",
              "      <th>status_lote_pedido_comercial</th>\n",
              "      <th>data_liberacao_comercial</th>\n",
              "      <th>status_lote_pedido_separacao</th>\n",
              "      <th>data_recebimento_separacao</th>\n",
              "      <th>canal_entrada_pedido</th>\n",
              "      <th>id_dim_produto</th>\n",
              "      <th>produto_versao</th>\n",
              "      <th>produto_chave</th>\n",
              "      <th>produto_familia</th>\n",
              "      <th>produto_grupo</th>\n",
              "      <th>produto_sub_grupo</th>\n",
              "      <th>produto_produto</th>\n",
              "      <th>produto_data_lancamento</th>\n",
              "      <th>produto_situacao</th>\n",
              "      <th>produto_descricao</th>\n",
              "      <th>produto_derivacao</th>\n",
              "      <th>produto_complemento</th>\n",
              "      <th>produto_modelo</th>\n",
              "      <th>produto_importado</th>\n",
              "      <th>produto_origem</th>\n",
              "      <th>produto_roteiro</th>\n",
              "      <th>produto_unidade_medida</th>\n",
              "      <th>produto_custo_medio</th>\n",
              "      <th>produto_preco_ultima_entrada</th>\n",
              "      <th>produto_fora_de_linha</th>\n",
              "      <th>produto_marca</th>\n",
              "      <th>id_dim_cliente</th>\n",
              "      <th>cliente_versao</th>\n",
              "      <th>cliente_data_inicial</th>\n",
              "      <th>cliente_data_final</th>\n",
              "      <th>cliente_chave</th>\n",
              "      <th>cliente_codigo</th>\n",
              "      <th>cliente_nome_razao_social</th>\n",
              "      <th>cliente_fantasia</th>\n",
              "      <th>cliente_data_cadastro</th>\n",
              "      <th>cliente_endereco</th>\n",
              "      <th>cliente_numero</th>\n",
              "      <th>cliente_complemento</th>\n",
              "      <th>cliente_bairro</th>\n",
              "      <th>cliente_cep</th>\n",
              "      <th>cliente_situacao</th>\n",
              "      <th>cliente_cpf_cnpj</th>\n",
              "      <th>cliente_rg_inscricao_estadual</th>\n",
              "      <th>cliente_inscricao_municipal</th>\n",
              "      <th>cliente_tipo_cliente</th>\n",
              "      <th>cliente_telefone1</th>\n",
              "      <th>cliente_email</th>\n",
              "      <th>cliente_telefone2</th>\n",
              "      <th>cliente_ciclo_compra_dias</th>\n",
              "      <th>cliente_classificacao_cliente</th>\n",
              "      <th>cliente_ramo_atividade</th>\n",
              "    </tr>\n",
              "  </thead>\n",
              "  <tbody>\n",
              "    <tr>\n",
              "      <th>0</th>\n",
              "      <td>212002</td>\n",
              "      <td>60630</td>\n",
              "      <td>4035939</td>\n",
              "      <td>N/I</td>\n",
              "      <td>2020-09-10</td>\n",
              "      <td>2020-09-10</td>\n",
              "      <td>7</td>\n",
              "      <td>ABERTO</td>\n",
              "      <td>300.0</td>\n",
              "      <td>0.0</td>\n",
              "      <td>0.0</td>\n",
              "      <td>300.0</td>\n",
              "      <td>6.2</td>\n",
              "      <td>2391.0</td>\n",
              "      <td>531.0</td>\n",
              "      <td>0.0</td>\n",
              "      <td>1860.0</td>\n",
              "      <td>93.0</td>\n",
              "      <td>0.0</td>\n",
              "      <td>0.0</td>\n",
              "      <td>0.1</td>\n",
              "      <td>0.0</td>\n",
              "      <td>0.0</td>\n",
              "      <td>SIM</td>\n",
              "      <td>N/I</td>\n",
              "      <td>0.0</td>\n",
              "      <td>N/I</td>\n",
              "      <td>1900-01-01</td>\n",
              "      <td>AGUARDANDO</td>\n",
              "      <td>1900-01-01</td>\n",
              "      <td>REPRESENTANTE</td>\n",
              "      <td>199.0</td>\n",
              "      <td>1.0</td>\n",
              "      <td>8164.0</td>\n",
              "      <td>FAMILIA PRODUTO 8164</td>\n",
              "      <td>GRUPO 3</td>\n",
              "      <td>SUB_GRUPO 17</td>\n",
              "      <td>NPB15PCT100CLS</td>\n",
              "      <td>2018-09-14</td>\n",
              "      <td>ATIVO</td>\n",
              "      <td>PRODUTO 8164</td>\n",
              "      <td>DERIVACAO 8164</td>\n",
              "      <td>7898632211610</td>\n",
              "      <td>N/I</td>\n",
              "      <td>N/I</td>\n",
              "      <td>ACABADO</td>\n",
              "      <td>N/I</td>\n",
              "      <td>PCT</td>\n",
              "      <td>0.0</td>\n",
              "      <td>0.0</td>\n",
              "      <td>N/I</td>\n",
              "      <td>MARCA 8164</td>\n",
              "      <td>1419.0</td>\n",
              "      <td>1.0</td>\n",
              "      <td>1900-01-01 00:00:00</td>\n",
              "      <td>2199-12-31 23:59:59</td>\n",
              "      <td>2098.0</td>\n",
              "      <td>2098.0</td>\n",
              "      <td>CLIENTE 2098</td>\n",
              "      <td>NOME DO CLIENTE Nº 2098</td>\n",
              "      <td>2018-08-31</td>\n",
              "      <td>ENDEREÇO DO CLIENTE Nº 2098</td>\n",
              "      <td>140</td>\n",
              "      <td>N/I</td>\n",
              "      <td>PARQUE INDUSTRIAL III</td>\n",
              "      <td>86706695.0</td>\n",
              "      <td>ATIVO</td>\n",
              "      <td>2098000.0</td>\n",
              "      <td>209800.0</td>\n",
              "      <td>N/I</td>\n",
              "      <td>PESSOA JURÍDICA</td>\n",
              "      <td>(48) 2106-8800</td>\n",
              "      <td>CLIENTE2098@example.com</td>\n",
              "      <td>N/I</td>\n",
              "      <td>30.0</td>\n",
              "      <td>BOM</td>\n",
              "      <td>DISTRIBUIDORA</td>\n",
              "    </tr>\n",
              "    <tr>\n",
              "      <th>1</th>\n",
              "      <td>212001</td>\n",
              "      <td>60630</td>\n",
              "      <td>4035939</td>\n",
              "      <td>N/I</td>\n",
              "      <td>2020-09-10</td>\n",
              "      <td>2020-09-10</td>\n",
              "      <td>6</td>\n",
              "      <td>ABERTO</td>\n",
              "      <td>300.0</td>\n",
              "      <td>0.0</td>\n",
              "      <td>0.0</td>\n",
              "      <td>300.0</td>\n",
              "      <td>6.2</td>\n",
              "      <td>2391.0</td>\n",
              "      <td>531.0</td>\n",
              "      <td>0.0</td>\n",
              "      <td>1860.0</td>\n",
              "      <td>93.0</td>\n",
              "      <td>0.0</td>\n",
              "      <td>0.0</td>\n",
              "      <td>0.1</td>\n",
              "      <td>0.0</td>\n",
              "      <td>0.0</td>\n",
              "      <td>SIM</td>\n",
              "      <td>N/I</td>\n",
              "      <td>0.0</td>\n",
              "      <td>N/I</td>\n",
              "      <td>1900-01-01</td>\n",
              "      <td>AGUARDANDO</td>\n",
              "      <td>1900-01-01</td>\n",
              "      <td>REPRESENTANTE</td>\n",
              "      <td>211.0</td>\n",
              "      <td>1.0</td>\n",
              "      <td>8178.0</td>\n",
              "      <td>FAMILIA PRODUTO 8178</td>\n",
              "      <td>GRUPO 3</td>\n",
              "      <td>SUB_GRUPO 17</td>\n",
              "      <td>NPB1PCT100CLS</td>\n",
              "      <td>2018-09-14</td>\n",
              "      <td>ATIVO</td>\n",
              "      <td>PRODUTO 8178</td>\n",
              "      <td>DERIVACAO 8178</td>\n",
              "      <td>7898632211627</td>\n",
              "      <td>N/I</td>\n",
              "      <td>N/I</td>\n",
              "      <td>ACABADO</td>\n",
              "      <td>N/I</td>\n",
              "      <td>PCT</td>\n",
              "      <td>0.0</td>\n",
              "      <td>0.0</td>\n",
              "      <td>N/I</td>\n",
              "      <td>MARCA 8178</td>\n",
              "      <td>1419.0</td>\n",
              "      <td>1.0</td>\n",
              "      <td>1900-01-01 00:00:00</td>\n",
              "      <td>2199-12-31 23:59:59</td>\n",
              "      <td>2098.0</td>\n",
              "      <td>2098.0</td>\n",
              "      <td>CLIENTE 2098</td>\n",
              "      <td>NOME DO CLIENTE Nº 2098</td>\n",
              "      <td>2018-08-31</td>\n",
              "      <td>ENDEREÇO DO CLIENTE Nº 2098</td>\n",
              "      <td>140</td>\n",
              "      <td>N/I</td>\n",
              "      <td>PARQUE INDUSTRIAL III</td>\n",
              "      <td>86706695.0</td>\n",
              "      <td>ATIVO</td>\n",
              "      <td>2098000.0</td>\n",
              "      <td>209800.0</td>\n",
              "      <td>N/I</td>\n",
              "      <td>PESSOA JURÍDICA</td>\n",
              "      <td>(48) 2106-8800</td>\n",
              "      <td>CLIENTE2098@example.com</td>\n",
              "      <td>N/I</td>\n",
              "      <td>30.0</td>\n",
              "      <td>BOM</td>\n",
              "      <td>DISTRIBUIDORA</td>\n",
              "    </tr>\n",
              "    <tr>\n",
              "      <th>2</th>\n",
              "      <td>212000</td>\n",
              "      <td>60630</td>\n",
              "      <td>4035939</td>\n",
              "      <td>N/I</td>\n",
              "      <td>2020-09-10</td>\n",
              "      <td>2020-09-10</td>\n",
              "      <td>5</td>\n",
              "      <td>ABERTO</td>\n",
              "      <td>150.0</td>\n",
              "      <td>0.0</td>\n",
              "      <td>0.0</td>\n",
              "      <td>150.0</td>\n",
              "      <td>6.2</td>\n",
              "      <td>1195.5</td>\n",
              "      <td>265.5</td>\n",
              "      <td>0.0</td>\n",
              "      <td>930.0</td>\n",
              "      <td>46.5</td>\n",
              "      <td>0.0</td>\n",
              "      <td>0.0</td>\n",
              "      <td>0.1</td>\n",
              "      <td>0.0</td>\n",
              "      <td>0.0</td>\n",
              "      <td>SIM</td>\n",
              "      <td>N/I</td>\n",
              "      <td>0.0</td>\n",
              "      <td>N/I</td>\n",
              "      <td>1900-01-01</td>\n",
              "      <td>AGUARDANDO</td>\n",
              "      <td>1900-01-01</td>\n",
              "      <td>REPRESENTANTE</td>\n",
              "      <td>235.0</td>\n",
              "      <td>1.0</td>\n",
              "      <td>8205.0</td>\n",
              "      <td>FAMILIA PRODUTO 8205</td>\n",
              "      <td>GRUPO 3</td>\n",
              "      <td>SUB_GRUPO 16</td>\n",
              "      <td>NVP3PCT100</td>\n",
              "      <td>2018-09-14</td>\n",
              "      <td>ATIVO</td>\n",
              "      <td>PRODUTO 8205</td>\n",
              "      <td>DERIVACAO 8205</td>\n",
              "      <td>7898945165884</td>\n",
              "      <td>N/I</td>\n",
              "      <td>N/I</td>\n",
              "      <td>ACABADO</td>\n",
              "      <td>N/I</td>\n",
              "      <td>PCT</td>\n",
              "      <td>0.0</td>\n",
              "      <td>0.0</td>\n",
              "      <td>N/I</td>\n",
              "      <td>MARCA 8205</td>\n",
              "      <td>1419.0</td>\n",
              "      <td>1.0</td>\n",
              "      <td>1900-01-01 00:00:00</td>\n",
              "      <td>2199-12-31 23:59:59</td>\n",
              "      <td>2098.0</td>\n",
              "      <td>2098.0</td>\n",
              "      <td>CLIENTE 2098</td>\n",
              "      <td>NOME DO CLIENTE Nº 2098</td>\n",
              "      <td>2018-08-31</td>\n",
              "      <td>ENDEREÇO DO CLIENTE Nº 2098</td>\n",
              "      <td>140</td>\n",
              "      <td>N/I</td>\n",
              "      <td>PARQUE INDUSTRIAL III</td>\n",
              "      <td>86706695.0</td>\n",
              "      <td>ATIVO</td>\n",
              "      <td>2098000.0</td>\n",
              "      <td>209800.0</td>\n",
              "      <td>N/I</td>\n",
              "      <td>PESSOA JURÍDICA</td>\n",
              "      <td>(48) 2106-8800</td>\n",
              "      <td>CLIENTE2098@example.com</td>\n",
              "      <td>N/I</td>\n",
              "      <td>30.0</td>\n",
              "      <td>BOM</td>\n",
              "      <td>DISTRIBUIDORA</td>\n",
              "    </tr>\n",
              "    <tr>\n",
              "      <th>3</th>\n",
              "      <td>211999</td>\n",
              "      <td>60630</td>\n",
              "      <td>4035939</td>\n",
              "      <td>N/I</td>\n",
              "      <td>2020-09-10</td>\n",
              "      <td>2020-09-10</td>\n",
              "      <td>4</td>\n",
              "      <td>ABERTO</td>\n",
              "      <td>300.0</td>\n",
              "      <td>0.0</td>\n",
              "      <td>0.0</td>\n",
              "      <td>300.0</td>\n",
              "      <td>6.2</td>\n",
              "      <td>2391.0</td>\n",
              "      <td>531.0</td>\n",
              "      <td>0.0</td>\n",
              "      <td>1860.0</td>\n",
              "      <td>93.0</td>\n",
              "      <td>0.0</td>\n",
              "      <td>0.0</td>\n",
              "      <td>0.1</td>\n",
              "      <td>0.0</td>\n",
              "      <td>0.0</td>\n",
              "      <td>SIM</td>\n",
              "      <td>N/I</td>\n",
              "      <td>0.0</td>\n",
              "      <td>N/I</td>\n",
              "      <td>1900-01-01</td>\n",
              "      <td>AGUARDANDO</td>\n",
              "      <td>1900-01-01</td>\n",
              "      <td>REPRESENTANTE</td>\n",
              "      <td>221.0</td>\n",
              "      <td>1.0</td>\n",
              "      <td>8189.0</td>\n",
              "      <td>FAMILIA PRODUTO 8189</td>\n",
              "      <td>GRUPO 3</td>\n",
              "      <td>SUB_GRUPO 16</td>\n",
              "      <td>NPB2PCT100</td>\n",
              "      <td>2018-09-14</td>\n",
              "      <td>ATIVO</td>\n",
              "      <td>PRODUTO 8189</td>\n",
              "      <td>DERIVACAO 8189</td>\n",
              "      <td>7898945165433</td>\n",
              "      <td>N/I</td>\n",
              "      <td>N/I</td>\n",
              "      <td>ACABADO</td>\n",
              "      <td>N/I</td>\n",
              "      <td>PCT</td>\n",
              "      <td>0.0</td>\n",
              "      <td>0.0</td>\n",
              "      <td>N/I</td>\n",
              "      <td>MARCA 8189</td>\n",
              "      <td>1419.0</td>\n",
              "      <td>1.0</td>\n",
              "      <td>1900-01-01 00:00:00</td>\n",
              "      <td>2199-12-31 23:59:59</td>\n",
              "      <td>2098.0</td>\n",
              "      <td>2098.0</td>\n",
              "      <td>CLIENTE 2098</td>\n",
              "      <td>NOME DO CLIENTE Nº 2098</td>\n",
              "      <td>2018-08-31</td>\n",
              "      <td>ENDEREÇO DO CLIENTE Nº 2098</td>\n",
              "      <td>140</td>\n",
              "      <td>N/I</td>\n",
              "      <td>PARQUE INDUSTRIAL III</td>\n",
              "      <td>86706695.0</td>\n",
              "      <td>ATIVO</td>\n",
              "      <td>2098000.0</td>\n",
              "      <td>209800.0</td>\n",
              "      <td>N/I</td>\n",
              "      <td>PESSOA JURÍDICA</td>\n",
              "      <td>(48) 2106-8800</td>\n",
              "      <td>CLIENTE2098@example.com</td>\n",
              "      <td>N/I</td>\n",
              "      <td>30.0</td>\n",
              "      <td>BOM</td>\n",
              "      <td>DISTRIBUIDORA</td>\n",
              "    </tr>\n",
              "    <tr>\n",
              "      <th>4</th>\n",
              "      <td>211998</td>\n",
              "      <td>60630</td>\n",
              "      <td>4035939</td>\n",
              "      <td>N/I</td>\n",
              "      <td>2020-09-10</td>\n",
              "      <td>2020-09-10</td>\n",
              "      <td>3</td>\n",
              "      <td>ABERTO</td>\n",
              "      <td>300.0</td>\n",
              "      <td>0.0</td>\n",
              "      <td>0.0</td>\n",
              "      <td>300.0</td>\n",
              "      <td>6.2</td>\n",
              "      <td>2391.0</td>\n",
              "      <td>531.0</td>\n",
              "      <td>0.0</td>\n",
              "      <td>1860.0</td>\n",
              "      <td>93.0</td>\n",
              "      <td>0.0</td>\n",
              "      <td>0.0</td>\n",
              "      <td>0.1</td>\n",
              "      <td>0.0</td>\n",
              "      <td>0.0</td>\n",
              "      <td>SIM</td>\n",
              "      <td>N/I</td>\n",
              "      <td>0.0</td>\n",
              "      <td>N/I</td>\n",
              "      <td>1900-01-01</td>\n",
              "      <td>AGUARDANDO</td>\n",
              "      <td>1900-01-01</td>\n",
              "      <td>REPRESENTANTE</td>\n",
              "      <td>192.0</td>\n",
              "      <td>1.0</td>\n",
              "      <td>8156.0</td>\n",
              "      <td>FAMILIA PRODUTO 8156</td>\n",
              "      <td>GRUPO 3</td>\n",
              "      <td>SUB_GRUPO 16</td>\n",
              "      <td>NPB15PCT100</td>\n",
              "      <td>2018-09-14</td>\n",
              "      <td>ATIVO</td>\n",
              "      <td>PRODUTO 8156</td>\n",
              "      <td>DERIVACAO 8156</td>\n",
              "      <td>7898945165501</td>\n",
              "      <td>N/I</td>\n",
              "      <td>N/I</td>\n",
              "      <td>ACABADO</td>\n",
              "      <td>N/I</td>\n",
              "      <td>PCT</td>\n",
              "      <td>0.0</td>\n",
              "      <td>0.0</td>\n",
              "      <td>N/I</td>\n",
              "      <td>MARCA 8156</td>\n",
              "      <td>1419.0</td>\n",
              "      <td>1.0</td>\n",
              "      <td>1900-01-01 00:00:00</td>\n",
              "      <td>2199-12-31 23:59:59</td>\n",
              "      <td>2098.0</td>\n",
              "      <td>2098.0</td>\n",
              "      <td>CLIENTE 2098</td>\n",
              "      <td>NOME DO CLIENTE Nº 2098</td>\n",
              "      <td>2018-08-31</td>\n",
              "      <td>ENDEREÇO DO CLIENTE Nº 2098</td>\n",
              "      <td>140</td>\n",
              "      <td>N/I</td>\n",
              "      <td>PARQUE INDUSTRIAL III</td>\n",
              "      <td>86706695.0</td>\n",
              "      <td>ATIVO</td>\n",
              "      <td>2098000.0</td>\n",
              "      <td>209800.0</td>\n",
              "      <td>N/I</td>\n",
              "      <td>PESSOA JURÍDICA</td>\n",
              "      <td>(48) 2106-8800</td>\n",
              "      <td>CLIENTE2098@example.com</td>\n",
              "      <td>N/I</td>\n",
              "      <td>30.0</td>\n",
              "      <td>BOM</td>\n",
              "      <td>DISTRIBUIDORA</td>\n",
              "    </tr>\n",
              "  </tbody>\n",
              "</table>\n",
              "</div>"
            ],
            "text/plain": [
              "    chave  numero_pedido  ... cliente_classificacao_cliente cliente_ramo_atividade\n",
              "0  212002          60630  ...                           BOM          DISTRIBUIDORA\n",
              "1  212001          60630  ...                           BOM          DISTRIBUIDORA\n",
              "2  212000          60630  ...                           BOM          DISTRIBUIDORA\n",
              "3  211999          60630  ...                           BOM          DISTRIBUIDORA\n",
              "4  211998          60630  ...                           BOM          DISTRIBUIDORA\n",
              "\n",
              "[5 rows x 77 columns]"
            ]
          },
          "metadata": {
            "tags": []
          },
          "execution_count": 11
        }
      ]
    },
    {
      "cell_type": "markdown",
      "metadata": {
        "id": "-teFOdi0-Cgi"
      },
      "source": [
        "## Cada registro é um item de pedido"
      ]
    },
    {
      "cell_type": "code",
      "metadata": {
        "colab": {
          "base_uri": "https://localhost:8080/"
        },
        "id": "ZFGKVogb8Slk",
        "outputId": "d5643547-5858-4a64-a304-261f6ae84513"
      },
      "source": [
        "df.info()"
      ],
      "execution_count": 9,
      "outputs": [
        {
          "output_type": "stream",
          "text": [
            "<class 'pandas.core.frame.DataFrame'>\n",
            "RangeIndex: 51040 entries, 0 to 51039\n",
            "Data columns (total 77 columns):\n",
            " #   Column                              Non-Null Count  Dtype  \n",
            "---  ------                              --------------  -----  \n",
            " 0   chave                               51040 non-null  object \n",
            " 1   numero_pedido                       51040 non-null  int64  \n",
            " 2   numero_pedido_aux1                  51040 non-null  object \n",
            " 3   numero_pedido_aux2                  51040 non-null  object \n",
            " 4   data_emissao                        51040 non-null  object \n",
            " 5   data_entrega                        51040 non-null  object \n",
            " 6   sequencia_item                      51040 non-null  int64  \n",
            " 7   situacao                            51040 non-null  object \n",
            " 8   quant_pedida                        51040 non-null  float64\n",
            " 9   quant_faturada                      51040 non-null  float64\n",
            " 10  quant_cancelada                     51040 non-null  float64\n",
            " 11  quant_aberta                        51040 non-null  float64\n",
            " 12  preco_unitario                      51040 non-null  float64\n",
            " 13  valor_bruto                         51040 non-null  float64\n",
            " 14  valor_desconto1                     51040 non-null  float64\n",
            " 15  valor_desconto2                     51040 non-null  float64\n",
            " 16  valor_liquido                       51040 non-null  float64\n",
            " 17  valor_ipi                           51040 non-null  float64\n",
            " 18  valor_imcs_substituicao_tributaria  51040 non-null  float64\n",
            " 19  valor_frete                         51040 non-null  float64\n",
            " 20  percentual_comissao_vendedor1       51040 non-null  float64\n",
            " 21  percentual_comissao_vendedor2       51040 non-null  float64\n",
            " 22  media_desconto                      51040 non-null  float64\n",
            " 23  bloqueado                           51040 non-null  object \n",
            " 24  observacao_pedido                   51040 non-null  object \n",
            " 25  numero_lote_pedido                  51040 non-null  float64\n",
            " 26  status_lote_pedido_comercial        51040 non-null  object \n",
            " 27  data_liberacao_comercial            51040 non-null  object \n",
            " 28  status_lote_pedido_separacao        51040 non-null  object \n",
            " 29  data_recebimento_separacao          51040 non-null  object \n",
            " 30  canal_entrada_pedido                51040 non-null  object \n",
            " 31  id_dim_produto                      51039 non-null  float64\n",
            " 32  produto_versao                      51039 non-null  float64\n",
            " 33  produto_chave                       51039 non-null  float64\n",
            " 34  produto_familia                     51039 non-null  object \n",
            " 35  produto_grupo                       51039 non-null  object \n",
            " 36  produto_sub_grupo                   51039 non-null  object \n",
            " 37  produto_produto                     51039 non-null  object \n",
            " 38  produto_data_lancamento             51039 non-null  object \n",
            " 39  produto_situacao                    51039 non-null  object \n",
            " 40  produto_descricao                   51039 non-null  object \n",
            " 41  produto_derivacao                   51039 non-null  object \n",
            " 42  produto_complemento                 51039 non-null  object \n",
            " 43  produto_modelo                      51039 non-null  object \n",
            " 44  produto_importado                   51039 non-null  object \n",
            " 45  produto_origem                      51039 non-null  object \n",
            " 46  produto_roteiro                     51039 non-null  object \n",
            " 47  produto_unidade_medida              51039 non-null  object \n",
            " 48  produto_custo_medio                 51039 non-null  float64\n",
            " 49  produto_preco_ultima_entrada        51039 non-null  float64\n",
            " 50  produto_fora_de_linha               51039 non-null  object \n",
            " 51  produto_marca                       51039 non-null  object \n",
            " 52  id_dim_cliente                      50787 non-null  float64\n",
            " 53  cliente_versao                      50787 non-null  float64\n",
            " 54  cliente_data_inicial                50787 non-null  object \n",
            " 55  cliente_data_final                  50787 non-null  object \n",
            " 56  cliente_chave                       50787 non-null  float64\n",
            " 57  cliente_codigo                      50787 non-null  float64\n",
            " 58  cliente_nome_razao_social           50787 non-null  object \n",
            " 59  cliente_fantasia                    50787 non-null  object \n",
            " 60  cliente_data_cadastro               50787 non-null  object \n",
            " 61  cliente_endereco                    50787 non-null  object \n",
            " 62  cliente_numero                      50787 non-null  object \n",
            " 63  cliente_complemento                 50787 non-null  object \n",
            " 64  cliente_bairro                      50787 non-null  object \n",
            " 65  cliente_cep                         50787 non-null  float64\n",
            " 66  cliente_situacao                    50787 non-null  object \n",
            " 67  cliente_cpf_cnpj                    50787 non-null  float64\n",
            " 68  cliente_rg_inscricao_estadual       50787 non-null  float64\n",
            " 69  cliente_inscricao_municipal         50787 non-null  object \n",
            " 70  cliente_tipo_cliente                50787 non-null  object \n",
            " 71  cliente_telefone1                   50787 non-null  object \n",
            " 72  cliente_email                       50787 non-null  object \n",
            " 73  cliente_telefone2                   50787 non-null  object \n",
            " 74  cliente_ciclo_compra_dias           50787 non-null  float64\n",
            " 75  cliente_classificacao_cliente       50787 non-null  object \n",
            " 76  cliente_ramo_atividade              50787 non-null  object \n",
            "dtypes: float64(29), int64(2), object(46)\n",
            "memory usage: 30.0+ MB\n"
          ],
          "name": "stdout"
        }
      ]
    },
    {
      "cell_type": "code",
      "metadata": {
        "colab": {
          "base_uri": "https://localhost:8080/"
        },
        "id": "yLE-ZVFV9H_r",
        "outputId": "80eaee0f-a51b-4b62-e1a6-a78b2ca28d15"
      },
      "source": [
        "# considerando outliers\n",
        "df['quant_pedida'].mean()"
      ],
      "execution_count": 20,
      "outputs": [
        {
          "output_type": "execute_result",
          "data": {
            "text/plain": [
              "256.98551822100313"
            ]
          },
          "metadata": {
            "tags": []
          },
          "execution_count": 20
        }
      ]
    },
    {
      "cell_type": "code",
      "metadata": {
        "colab": {
          "base_uri": "https://localhost:8080/"
        },
        "id": "H4yP5s7w-gbv",
        "outputId": "ad1e1991-c37b-4a4f-e9ac-de63ca97276d"
      },
      "source": [
        "df['quant_pedida'].median()"
      ],
      "execution_count": 21,
      "outputs": [
        {
          "output_type": "execute_result",
          "data": {
            "text/plain": [
              "50.0"
            ]
          },
          "metadata": {
            "tags": []
          },
          "execution_count": 21
        }
      ]
    },
    {
      "cell_type": "code",
      "metadata": {
        "colab": {
          "base_uri": "https://localhost:8080/",
          "height": 470
        },
        "id": "b-plY6Im_QD9",
        "outputId": "e2db79f2-0ce6-4366-f32a-30c6a494d8a4"
      },
      "source": [
        "df.groupby(by='numero_pedido').sum()"
      ],
      "execution_count": 22,
      "outputs": [
        {
          "output_type": "execute_result",
          "data": {
            "text/html": [
              "<div>\n",
              "<style scoped>\n",
              "    .dataframe tbody tr th:only-of-type {\n",
              "        vertical-align: middle;\n",
              "    }\n",
              "\n",
              "    .dataframe tbody tr th {\n",
              "        vertical-align: top;\n",
              "    }\n",
              "\n",
              "    .dataframe thead th {\n",
              "        text-align: right;\n",
              "    }\n",
              "</style>\n",
              "<table border=\"1\" class=\"dataframe\">\n",
              "  <thead>\n",
              "    <tr style=\"text-align: right;\">\n",
              "      <th></th>\n",
              "      <th>sequencia_item</th>\n",
              "      <th>quant_pedida</th>\n",
              "      <th>quant_faturada</th>\n",
              "      <th>quant_cancelada</th>\n",
              "      <th>quant_aberta</th>\n",
              "      <th>preco_unitario</th>\n",
              "      <th>valor_bruto</th>\n",
              "      <th>valor_desconto1</th>\n",
              "      <th>valor_desconto2</th>\n",
              "      <th>valor_liquido</th>\n",
              "      <th>valor_ipi</th>\n",
              "      <th>valor_imcs_substituicao_tributaria</th>\n",
              "      <th>valor_frete</th>\n",
              "      <th>percentual_comissao_vendedor1</th>\n",
              "      <th>percentual_comissao_vendedor2</th>\n",
              "      <th>media_desconto</th>\n",
              "      <th>numero_lote_pedido</th>\n",
              "      <th>id_dim_produto</th>\n",
              "      <th>produto_versao</th>\n",
              "      <th>produto_chave</th>\n",
              "      <th>produto_custo_medio</th>\n",
              "      <th>produto_preco_ultima_entrada</th>\n",
              "      <th>id_dim_cliente</th>\n",
              "      <th>cliente_versao</th>\n",
              "      <th>cliente_chave</th>\n",
              "      <th>cliente_codigo</th>\n",
              "      <th>cliente_cep</th>\n",
              "      <th>cliente_cpf_cnpj</th>\n",
              "      <th>cliente_rg_inscricao_estadual</th>\n",
              "      <th>cliente_ciclo_compra_dias</th>\n",
              "    </tr>\n",
              "    <tr>\n",
              "      <th>numero_pedido</th>\n",
              "      <th></th>\n",
              "      <th></th>\n",
              "      <th></th>\n",
              "      <th></th>\n",
              "      <th></th>\n",
              "      <th></th>\n",
              "      <th></th>\n",
              "      <th></th>\n",
              "      <th></th>\n",
              "      <th></th>\n",
              "      <th></th>\n",
              "      <th></th>\n",
              "      <th></th>\n",
              "      <th></th>\n",
              "      <th></th>\n",
              "      <th></th>\n",
              "      <th></th>\n",
              "      <th></th>\n",
              "      <th></th>\n",
              "      <th></th>\n",
              "      <th></th>\n",
              "      <th></th>\n",
              "      <th></th>\n",
              "      <th></th>\n",
              "      <th></th>\n",
              "      <th></th>\n",
              "      <th></th>\n",
              "      <th></th>\n",
              "      <th></th>\n",
              "      <th></th>\n",
              "    </tr>\n",
              "  </thead>\n",
              "  <tbody>\n",
              "    <tr>\n",
              "      <th>24007</th>\n",
              "      <td>3</td>\n",
              "      <td>50.0</td>\n",
              "      <td>50.0</td>\n",
              "      <td>0.0</td>\n",
              "      <td>0.0</td>\n",
              "      <td>16.68</td>\n",
              "      <td>435.30</td>\n",
              "      <td>9.0000</td>\n",
              "      <td>0.0</td>\n",
              "      <td>426.3000</td>\n",
              "      <td>2.47</td>\n",
              "      <td>0.00</td>\n",
              "      <td>49.3</td>\n",
              "      <td>0.00</td>\n",
              "      <td>0.0</td>\n",
              "      <td>0.0</td>\n",
              "      <td>0.0</td>\n",
              "      <td>505.0</td>\n",
              "      <td>2.0</td>\n",
              "      <td>16454.0</td>\n",
              "      <td>0.000</td>\n",
              "      <td>0.000</td>\n",
              "      <td>8094.0</td>\n",
              "      <td>2.0</td>\n",
              "      <td>12478.0</td>\n",
              "      <td>12478.0</td>\n",
              "      <td>1.936401e+08</td>\n",
              "      <td>12478000.0</td>\n",
              "      <td>1247800.0</td>\n",
              "      <td>90.0</td>\n",
              "    </tr>\n",
              "    <tr>\n",
              "      <th>24009</th>\n",
              "      <td>55</td>\n",
              "      <td>121.0</td>\n",
              "      <td>121.0</td>\n",
              "      <td>0.0</td>\n",
              "      <td>0.0</td>\n",
              "      <td>44.17</td>\n",
              "      <td>566.64</td>\n",
              "      <td>149.9900</td>\n",
              "      <td>0.0</td>\n",
              "      <td>416.6500</td>\n",
              "      <td>0.00</td>\n",
              "      <td>0.00</td>\n",
              "      <td>0.0</td>\n",
              "      <td>0.00</td>\n",
              "      <td>0.0</td>\n",
              "      <td>0.0</td>\n",
              "      <td>0.0</td>\n",
              "      <td>2145.0</td>\n",
              "      <td>10.0</td>\n",
              "      <td>81834.0</td>\n",
              "      <td>8.500</td>\n",
              "      <td>8.500</td>\n",
              "      <td>24910.0</td>\n",
              "      <td>10.0</td>\n",
              "      <td>37380.0</td>\n",
              "      <td>37380.0</td>\n",
              "      <td>8.904500e+08</td>\n",
              "      <td>37380000.0</td>\n",
              "      <td>3738000.0</td>\n",
              "      <td>1000.0</td>\n",
              "    </tr>\n",
              "    <tr>\n",
              "      <th>24011</th>\n",
              "      <td>1</td>\n",
              "      <td>200.0</td>\n",
              "      <td>200.0</td>\n",
              "      <td>0.0</td>\n",
              "      <td>0.0</td>\n",
              "      <td>10.20</td>\n",
              "      <td>2340.00</td>\n",
              "      <td>300.0000</td>\n",
              "      <td>0.0</td>\n",
              "      <td>2040.0000</td>\n",
              "      <td>0.00</td>\n",
              "      <td>0.00</td>\n",
              "      <td>0.0</td>\n",
              "      <td>0.00</td>\n",
              "      <td>0.0</td>\n",
              "      <td>0.0</td>\n",
              "      <td>0.0</td>\n",
              "      <td>268.0</td>\n",
              "      <td>1.0</td>\n",
              "      <td>8247.0</td>\n",
              "      <td>9.348</td>\n",
              "      <td>9.348</td>\n",
              "      <td>958.0</td>\n",
              "      <td>1.0</td>\n",
              "      <td>1433.0</td>\n",
              "      <td>1433.0</td>\n",
              "      <td>8.880347e+07</td>\n",
              "      <td>1433000.0</td>\n",
              "      <td>143300.0</td>\n",
              "      <td>150.0</td>\n",
              "    </tr>\n",
              "    <tr>\n",
              "      <th>24012</th>\n",
              "      <td>66</td>\n",
              "      <td>71.0</td>\n",
              "      <td>71.0</td>\n",
              "      <td>0.0</td>\n",
              "      <td>0.0</td>\n",
              "      <td>218.25</td>\n",
              "      <td>1463.26</td>\n",
              "      <td>462.0099</td>\n",
              "      <td>0.0</td>\n",
              "      <td>1001.2501</td>\n",
              "      <td>0.00</td>\n",
              "      <td>0.00</td>\n",
              "      <td>0.0</td>\n",
              "      <td>0.00</td>\n",
              "      <td>0.0</td>\n",
              "      <td>0.0</td>\n",
              "      <td>0.0</td>\n",
              "      <td>5029.0</td>\n",
              "      <td>11.0</td>\n",
              "      <td>90915.0</td>\n",
              "      <td>8.825</td>\n",
              "      <td>9.250</td>\n",
              "      <td>46563.0</td>\n",
              "      <td>11.0</td>\n",
              "      <td>13563.0</td>\n",
              "      <td>13563.0</td>\n",
              "      <td>1.051930e+09</td>\n",
              "      <td>13563000.0</td>\n",
              "      <td>1356300.0</td>\n",
              "      <td>1320.0</td>\n",
              "    </tr>\n",
              "    <tr>\n",
              "      <th>24013</th>\n",
              "      <td>10</td>\n",
              "      <td>2730.0</td>\n",
              "      <td>2730.0</td>\n",
              "      <td>0.0</td>\n",
              "      <td>0.0</td>\n",
              "      <td>20.58</td>\n",
              "      <td>2730.00</td>\n",
              "      <td>-11579.1000</td>\n",
              "      <td>0.0</td>\n",
              "      <td>14309.1000</td>\n",
              "      <td>0.00</td>\n",
              "      <td>0.00</td>\n",
              "      <td>0.0</td>\n",
              "      <td>0.00</td>\n",
              "      <td>0.0</td>\n",
              "      <td>0.0</td>\n",
              "      <td>0.0</td>\n",
              "      <td>3546.0</td>\n",
              "      <td>4.0</td>\n",
              "      <td>24919.0</td>\n",
              "      <td>0.000</td>\n",
              "      <td>0.000</td>\n",
              "      <td>9676.0</td>\n",
              "      <td>4.0</td>\n",
              "      <td>14588.0</td>\n",
              "      <td>14588.0</td>\n",
              "      <td>3.730800e+08</td>\n",
              "      <td>14588000.0</td>\n",
              "      <td>1458800.0</td>\n",
              "      <td>60.0</td>\n",
              "    </tr>\n",
              "    <tr>\n",
              "      <th>...</th>\n",
              "      <td>...</td>\n",
              "      <td>...</td>\n",
              "      <td>...</td>\n",
              "      <td>...</td>\n",
              "      <td>...</td>\n",
              "      <td>...</td>\n",
              "      <td>...</td>\n",
              "      <td>...</td>\n",
              "      <td>...</td>\n",
              "      <td>...</td>\n",
              "      <td>...</td>\n",
              "      <td>...</td>\n",
              "      <td>...</td>\n",
              "      <td>...</td>\n",
              "      <td>...</td>\n",
              "      <td>...</td>\n",
              "      <td>...</td>\n",
              "      <td>...</td>\n",
              "      <td>...</td>\n",
              "      <td>...</td>\n",
              "      <td>...</td>\n",
              "      <td>...</td>\n",
              "      <td>...</td>\n",
              "      <td>...</td>\n",
              "      <td>...</td>\n",
              "      <td>...</td>\n",
              "      <td>...</td>\n",
              "      <td>...</td>\n",
              "      <td>...</td>\n",
              "      <td>...</td>\n",
              "    </tr>\n",
              "    <tr>\n",
              "      <th>60625</th>\n",
              "      <td>36</td>\n",
              "      <td>927.0</td>\n",
              "      <td>0.0</td>\n",
              "      <td>0.0</td>\n",
              "      <td>927.0</td>\n",
              "      <td>69.27</td>\n",
              "      <td>4734.70</td>\n",
              "      <td>14.2000</td>\n",
              "      <td>0.0</td>\n",
              "      <td>4720.5000</td>\n",
              "      <td>238.01</td>\n",
              "      <td>0.00</td>\n",
              "      <td>0.0</td>\n",
              "      <td>0.64</td>\n",
              "      <td>0.0</td>\n",
              "      <td>0.0</td>\n",
              "      <td>0.0</td>\n",
              "      <td>4560.0</td>\n",
              "      <td>8.0</td>\n",
              "      <td>57474.0</td>\n",
              "      <td>9.348</td>\n",
              "      <td>9.348</td>\n",
              "      <td>15568.0</td>\n",
              "      <td>8.0</td>\n",
              "      <td>23312.0</td>\n",
              "      <td>23312.0</td>\n",
              "      <td>7.096183e+08</td>\n",
              "      <td>23312000.0</td>\n",
              "      <td>2331200.0</td>\n",
              "      <td>1200.0</td>\n",
              "    </tr>\n",
              "    <tr>\n",
              "      <th>60626</th>\n",
              "      <td>6</td>\n",
              "      <td>170.0</td>\n",
              "      <td>0.0</td>\n",
              "      <td>0.0</td>\n",
              "      <td>170.0</td>\n",
              "      <td>16.01</td>\n",
              "      <td>1038.85</td>\n",
              "      <td>67.5500</td>\n",
              "      <td>0.0</td>\n",
              "      <td>971.3000</td>\n",
              "      <td>48.57</td>\n",
              "      <td>0.00</td>\n",
              "      <td>0.0</td>\n",
              "      <td>0.00</td>\n",
              "      <td>0.0</td>\n",
              "      <td>0.0</td>\n",
              "      <td>0.0</td>\n",
              "      <td>867.0</td>\n",
              "      <td>3.0</td>\n",
              "      <td>24813.0</td>\n",
              "      <td>0.000</td>\n",
              "      <td>0.000</td>\n",
              "      <td>4266.0</td>\n",
              "      <td>3.0</td>\n",
              "      <td>6318.0</td>\n",
              "      <td>6318.0</td>\n",
              "      <td>2.968800e+08</td>\n",
              "      <td>6318000.0</td>\n",
              "      <td>631800.0</td>\n",
              "      <td>45.0</td>\n",
              "    </tr>\n",
              "    <tr>\n",
              "      <th>60627</th>\n",
              "      <td>10</td>\n",
              "      <td>1375.0</td>\n",
              "      <td>0.0</td>\n",
              "      <td>0.0</td>\n",
              "      <td>1375.0</td>\n",
              "      <td>37.20</td>\n",
              "      <td>14988.00</td>\n",
              "      <td>2020.5000</td>\n",
              "      <td>0.0</td>\n",
              "      <td>12967.5000</td>\n",
              "      <td>648.38</td>\n",
              "      <td>0.00</td>\n",
              "      <td>0.0</td>\n",
              "      <td>0.40</td>\n",
              "      <td>0.0</td>\n",
              "      <td>0.0</td>\n",
              "      <td>0.0</td>\n",
              "      <td>887.0</td>\n",
              "      <td>4.0</td>\n",
              "      <td>32764.0</td>\n",
              "      <td>9.348</td>\n",
              "      <td>9.348</td>\n",
              "      <td>1480.0</td>\n",
              "      <td>4.0</td>\n",
              "      <td>2568.0</td>\n",
              "      <td>2568.0</td>\n",
              "      <td>3.572000e+08</td>\n",
              "      <td>2568000.0</td>\n",
              "      <td>256800.0</td>\n",
              "      <td>240.0</td>\n",
              "    </tr>\n",
              "    <tr>\n",
              "      <th>60630</th>\n",
              "      <td>231</td>\n",
              "      <td>4601.0</td>\n",
              "      <td>0.0</td>\n",
              "      <td>0.0</td>\n",
              "      <td>4601.0</td>\n",
              "      <td>117.89</td>\n",
              "      <td>25010.55</td>\n",
              "      <td>4152.2500</td>\n",
              "      <td>0.0</td>\n",
              "      <td>20858.3000</td>\n",
              "      <td>1069.37</td>\n",
              "      <td>177.53</td>\n",
              "      <td>0.0</td>\n",
              "      <td>2.10</td>\n",
              "      <td>0.0</td>\n",
              "      <td>0.0</td>\n",
              "      <td>0.0</td>\n",
              "      <td>6306.0</td>\n",
              "      <td>21.0</td>\n",
              "      <td>171337.0</td>\n",
              "      <td>9.348</td>\n",
              "      <td>9.348</td>\n",
              "      <td>29799.0</td>\n",
              "      <td>21.0</td>\n",
              "      <td>44058.0</td>\n",
              "      <td>44058.0</td>\n",
              "      <td>1.820841e+09</td>\n",
              "      <td>44058000.0</td>\n",
              "      <td>4405800.0</td>\n",
              "      <td>630.0</td>\n",
              "    </tr>\n",
              "    <tr>\n",
              "      <th>60631</th>\n",
              "      <td>276</td>\n",
              "      <td>7020.0</td>\n",
              "      <td>0.0</td>\n",
              "      <td>0.0</td>\n",
              "      <td>7020.0</td>\n",
              "      <td>119.23</td>\n",
              "      <td>26462.70</td>\n",
              "      <td>4007.6000</td>\n",
              "      <td>0.0</td>\n",
              "      <td>22455.1000</td>\n",
              "      <td>1164.63</td>\n",
              "      <td>0.00</td>\n",
              "      <td>0.0</td>\n",
              "      <td>2.30</td>\n",
              "      <td>0.0</td>\n",
              "      <td>0.0</td>\n",
              "      <td>0.0</td>\n",
              "      <td>7669.0</td>\n",
              "      <td>23.0</td>\n",
              "      <td>187338.0</td>\n",
              "      <td>9.348</td>\n",
              "      <td>9.348</td>\n",
              "      <td>28865.0</td>\n",
              "      <td>23.0</td>\n",
              "      <td>42550.0</td>\n",
              "      <td>42550.0</td>\n",
              "      <td>2.027071e+09</td>\n",
              "      <td>42550000.0</td>\n",
              "      <td>4255000.0</td>\n",
              "      <td>690.0</td>\n",
              "    </tr>\n",
              "  </tbody>\n",
              "</table>\n",
              "<p>10653 rows × 30 columns</p>\n",
              "</div>"
            ],
            "text/plain": [
              "               sequencia_item  ...  cliente_ciclo_compra_dias\n",
              "numero_pedido                  ...                           \n",
              "24007                       3  ...                       90.0\n",
              "24009                      55  ...                     1000.0\n",
              "24011                       1  ...                      150.0\n",
              "24012                      66  ...                     1320.0\n",
              "24013                      10  ...                       60.0\n",
              "...                       ...  ...                        ...\n",
              "60625                      36  ...                     1200.0\n",
              "60626                       6  ...                       45.0\n",
              "60627                      10  ...                      240.0\n",
              "60630                     231  ...                      630.0\n",
              "60631                     276  ...                      690.0\n",
              "\n",
              "[10653 rows x 30 columns]"
            ]
          },
          "metadata": {
            "tags": []
          },
          "execution_count": 22
        }
      ]
    },
    {
      "cell_type": "code",
      "metadata": {
        "id": "elsqahihBGrP"
      },
      "source": [
        "pedidos = df.groupby(by='numero_pedido').sum()"
      ],
      "execution_count": 23,
      "outputs": []
    },
    {
      "cell_type": "code",
      "metadata": {
        "colab": {
          "base_uri": "https://localhost:8080/",
          "height": 255
        },
        "id": "llG_GufGBl0A",
        "outputId": "4021ed28-81b1-4c50-88b2-3ffe45405105"
      },
      "source": [
        "pedidos.head()"
      ],
      "execution_count": 24,
      "outputs": [
        {
          "output_type": "execute_result",
          "data": {
            "text/html": [
              "<div>\n",
              "<style scoped>\n",
              "    .dataframe tbody tr th:only-of-type {\n",
              "        vertical-align: middle;\n",
              "    }\n",
              "\n",
              "    .dataframe tbody tr th {\n",
              "        vertical-align: top;\n",
              "    }\n",
              "\n",
              "    .dataframe thead th {\n",
              "        text-align: right;\n",
              "    }\n",
              "</style>\n",
              "<table border=\"1\" class=\"dataframe\">\n",
              "  <thead>\n",
              "    <tr style=\"text-align: right;\">\n",
              "      <th></th>\n",
              "      <th>sequencia_item</th>\n",
              "      <th>quant_pedida</th>\n",
              "      <th>quant_faturada</th>\n",
              "      <th>quant_cancelada</th>\n",
              "      <th>quant_aberta</th>\n",
              "      <th>preco_unitario</th>\n",
              "      <th>valor_bruto</th>\n",
              "      <th>valor_desconto1</th>\n",
              "      <th>valor_desconto2</th>\n",
              "      <th>valor_liquido</th>\n",
              "      <th>valor_ipi</th>\n",
              "      <th>valor_imcs_substituicao_tributaria</th>\n",
              "      <th>valor_frete</th>\n",
              "      <th>percentual_comissao_vendedor1</th>\n",
              "      <th>percentual_comissao_vendedor2</th>\n",
              "      <th>media_desconto</th>\n",
              "      <th>numero_lote_pedido</th>\n",
              "      <th>id_dim_produto</th>\n",
              "      <th>produto_versao</th>\n",
              "      <th>produto_chave</th>\n",
              "      <th>produto_custo_medio</th>\n",
              "      <th>produto_preco_ultima_entrada</th>\n",
              "      <th>id_dim_cliente</th>\n",
              "      <th>cliente_versao</th>\n",
              "      <th>cliente_chave</th>\n",
              "      <th>cliente_codigo</th>\n",
              "      <th>cliente_cep</th>\n",
              "      <th>cliente_cpf_cnpj</th>\n",
              "      <th>cliente_rg_inscricao_estadual</th>\n",
              "      <th>cliente_ciclo_compra_dias</th>\n",
              "    </tr>\n",
              "    <tr>\n",
              "      <th>numero_pedido</th>\n",
              "      <th></th>\n",
              "      <th></th>\n",
              "      <th></th>\n",
              "      <th></th>\n",
              "      <th></th>\n",
              "      <th></th>\n",
              "      <th></th>\n",
              "      <th></th>\n",
              "      <th></th>\n",
              "      <th></th>\n",
              "      <th></th>\n",
              "      <th></th>\n",
              "      <th></th>\n",
              "      <th></th>\n",
              "      <th></th>\n",
              "      <th></th>\n",
              "      <th></th>\n",
              "      <th></th>\n",
              "      <th></th>\n",
              "      <th></th>\n",
              "      <th></th>\n",
              "      <th></th>\n",
              "      <th></th>\n",
              "      <th></th>\n",
              "      <th></th>\n",
              "      <th></th>\n",
              "      <th></th>\n",
              "      <th></th>\n",
              "      <th></th>\n",
              "      <th></th>\n",
              "    </tr>\n",
              "  </thead>\n",
              "  <tbody>\n",
              "    <tr>\n",
              "      <th>24007</th>\n",
              "      <td>3</td>\n",
              "      <td>50.0</td>\n",
              "      <td>50.0</td>\n",
              "      <td>0.0</td>\n",
              "      <td>0.0</td>\n",
              "      <td>16.68</td>\n",
              "      <td>435.30</td>\n",
              "      <td>9.0000</td>\n",
              "      <td>0.0</td>\n",
              "      <td>426.3000</td>\n",
              "      <td>2.47</td>\n",
              "      <td>0.0</td>\n",
              "      <td>49.3</td>\n",
              "      <td>0.0</td>\n",
              "      <td>0.0</td>\n",
              "      <td>0.0</td>\n",
              "      <td>0.0</td>\n",
              "      <td>505.0</td>\n",
              "      <td>2.0</td>\n",
              "      <td>16454.0</td>\n",
              "      <td>0.000</td>\n",
              "      <td>0.000</td>\n",
              "      <td>8094.0</td>\n",
              "      <td>2.0</td>\n",
              "      <td>12478.0</td>\n",
              "      <td>12478.0</td>\n",
              "      <td>1.936401e+08</td>\n",
              "      <td>12478000.0</td>\n",
              "      <td>1247800.0</td>\n",
              "      <td>90.0</td>\n",
              "    </tr>\n",
              "    <tr>\n",
              "      <th>24009</th>\n",
              "      <td>55</td>\n",
              "      <td>121.0</td>\n",
              "      <td>121.0</td>\n",
              "      <td>0.0</td>\n",
              "      <td>0.0</td>\n",
              "      <td>44.17</td>\n",
              "      <td>566.64</td>\n",
              "      <td>149.9900</td>\n",
              "      <td>0.0</td>\n",
              "      <td>416.6500</td>\n",
              "      <td>0.00</td>\n",
              "      <td>0.0</td>\n",
              "      <td>0.0</td>\n",
              "      <td>0.0</td>\n",
              "      <td>0.0</td>\n",
              "      <td>0.0</td>\n",
              "      <td>0.0</td>\n",
              "      <td>2145.0</td>\n",
              "      <td>10.0</td>\n",
              "      <td>81834.0</td>\n",
              "      <td>8.500</td>\n",
              "      <td>8.500</td>\n",
              "      <td>24910.0</td>\n",
              "      <td>10.0</td>\n",
              "      <td>37380.0</td>\n",
              "      <td>37380.0</td>\n",
              "      <td>8.904500e+08</td>\n",
              "      <td>37380000.0</td>\n",
              "      <td>3738000.0</td>\n",
              "      <td>1000.0</td>\n",
              "    </tr>\n",
              "    <tr>\n",
              "      <th>24011</th>\n",
              "      <td>1</td>\n",
              "      <td>200.0</td>\n",
              "      <td>200.0</td>\n",
              "      <td>0.0</td>\n",
              "      <td>0.0</td>\n",
              "      <td>10.20</td>\n",
              "      <td>2340.00</td>\n",
              "      <td>300.0000</td>\n",
              "      <td>0.0</td>\n",
              "      <td>2040.0000</td>\n",
              "      <td>0.00</td>\n",
              "      <td>0.0</td>\n",
              "      <td>0.0</td>\n",
              "      <td>0.0</td>\n",
              "      <td>0.0</td>\n",
              "      <td>0.0</td>\n",
              "      <td>0.0</td>\n",
              "      <td>268.0</td>\n",
              "      <td>1.0</td>\n",
              "      <td>8247.0</td>\n",
              "      <td>9.348</td>\n",
              "      <td>9.348</td>\n",
              "      <td>958.0</td>\n",
              "      <td>1.0</td>\n",
              "      <td>1433.0</td>\n",
              "      <td>1433.0</td>\n",
              "      <td>8.880347e+07</td>\n",
              "      <td>1433000.0</td>\n",
              "      <td>143300.0</td>\n",
              "      <td>150.0</td>\n",
              "    </tr>\n",
              "    <tr>\n",
              "      <th>24012</th>\n",
              "      <td>66</td>\n",
              "      <td>71.0</td>\n",
              "      <td>71.0</td>\n",
              "      <td>0.0</td>\n",
              "      <td>0.0</td>\n",
              "      <td>218.25</td>\n",
              "      <td>1463.26</td>\n",
              "      <td>462.0099</td>\n",
              "      <td>0.0</td>\n",
              "      <td>1001.2501</td>\n",
              "      <td>0.00</td>\n",
              "      <td>0.0</td>\n",
              "      <td>0.0</td>\n",
              "      <td>0.0</td>\n",
              "      <td>0.0</td>\n",
              "      <td>0.0</td>\n",
              "      <td>0.0</td>\n",
              "      <td>5029.0</td>\n",
              "      <td>11.0</td>\n",
              "      <td>90915.0</td>\n",
              "      <td>8.825</td>\n",
              "      <td>9.250</td>\n",
              "      <td>46563.0</td>\n",
              "      <td>11.0</td>\n",
              "      <td>13563.0</td>\n",
              "      <td>13563.0</td>\n",
              "      <td>1.051930e+09</td>\n",
              "      <td>13563000.0</td>\n",
              "      <td>1356300.0</td>\n",
              "      <td>1320.0</td>\n",
              "    </tr>\n",
              "    <tr>\n",
              "      <th>24013</th>\n",
              "      <td>10</td>\n",
              "      <td>2730.0</td>\n",
              "      <td>2730.0</td>\n",
              "      <td>0.0</td>\n",
              "      <td>0.0</td>\n",
              "      <td>20.58</td>\n",
              "      <td>2730.00</td>\n",
              "      <td>-11579.1000</td>\n",
              "      <td>0.0</td>\n",
              "      <td>14309.1000</td>\n",
              "      <td>0.00</td>\n",
              "      <td>0.0</td>\n",
              "      <td>0.0</td>\n",
              "      <td>0.0</td>\n",
              "      <td>0.0</td>\n",
              "      <td>0.0</td>\n",
              "      <td>0.0</td>\n",
              "      <td>3546.0</td>\n",
              "      <td>4.0</td>\n",
              "      <td>24919.0</td>\n",
              "      <td>0.000</td>\n",
              "      <td>0.000</td>\n",
              "      <td>9676.0</td>\n",
              "      <td>4.0</td>\n",
              "      <td>14588.0</td>\n",
              "      <td>14588.0</td>\n",
              "      <td>3.730800e+08</td>\n",
              "      <td>14588000.0</td>\n",
              "      <td>1458800.0</td>\n",
              "      <td>60.0</td>\n",
              "    </tr>\n",
              "  </tbody>\n",
              "</table>\n",
              "</div>"
            ],
            "text/plain": [
              "               sequencia_item  ...  cliente_ciclo_compra_dias\n",
              "numero_pedido                  ...                           \n",
              "24007                       3  ...                       90.0\n",
              "24009                      55  ...                     1000.0\n",
              "24011                       1  ...                      150.0\n",
              "24012                      66  ...                     1320.0\n",
              "24013                      10  ...                       60.0\n",
              "\n",
              "[5 rows x 30 columns]"
            ]
          },
          "metadata": {
            "tags": []
          },
          "execution_count": 24
        }
      ]
    },
    {
      "cell_type": "code",
      "metadata": {
        "colab": {
          "base_uri": "https://localhost:8080/"
        },
        "id": "9afT_C5eBwDL",
        "outputId": "aeafc1c2-531e-41b7-a003-28b269541cae"
      },
      "source": [
        "pedidos['valor_liquido'].mean()"
      ],
      "execution_count": 26,
      "outputs": [
        {
          "output_type": "execute_result",
          "data": {
            "text/plain": [
              "3267.643562189071"
            ]
          },
          "metadata": {
            "tags": []
          },
          "execution_count": 26
        }
      ]
    },
    {
      "cell_type": "code",
      "metadata": {
        "colab": {
          "base_uri": "https://localhost:8080/"
        },
        "id": "lWmOk028B067",
        "outputId": "bcd1495f-efca-482b-c3a5-5b2761c1f205"
      },
      "source": [
        "pedidos['valor_liquido'].median()"
      ],
      "execution_count": 28,
      "outputs": [
        {
          "output_type": "execute_result",
          "data": {
            "text/plain": [
              "1535.6"
            ]
          },
          "metadata": {
            "tags": []
          },
          "execution_count": 28
        }
      ]
    },
    {
      "cell_type": "code",
      "metadata": {
        "id": "6pNhXMnnCHKo"
      },
      "source": [
        "from scipy import stats"
      ],
      "execution_count": 31,
      "outputs": []
    },
    {
      "cell_type": "code",
      "metadata": {
        "colab": {
          "base_uri": "https://localhost:8080/"
        },
        "id": "JaM9UIS3DMpg",
        "outputId": "400e2cfb-d073-46ed-e4e5-9fbcf148be72"
      },
      "source": [
        "stats.trim_mean(pedidos['valor_liquido'], 0.2)"
      ],
      "execution_count": 33,
      "outputs": [
        {
          "output_type": "execute_result",
          "data": {
            "text/plain": [
              "1751.270989191303"
            ]
          },
          "metadata": {
            "tags": []
          },
          "execution_count": 33
        }
      ]
    },
    {
      "cell_type": "code",
      "metadata": {
        "colab": {
          "base_uri": "https://localhost:8080/"
        },
        "id": "QiTVUvmjFAML",
        "outputId": "b1935b60-a87e-497e-d053-45c35098e9ad"
      },
      "source": [
        "pedidos.valor_liquido.max()"
      ],
      "execution_count": 34,
      "outputs": [
        {
          "output_type": "execute_result",
          "data": {
            "text/plain": [
              "226395.72"
            ]
          },
          "metadata": {
            "tags": []
          },
          "execution_count": 34
        }
      ]
    },
    {
      "cell_type": "code",
      "metadata": {
        "colab": {
          "base_uri": "https://localhost:8080/"
        },
        "id": "kjPOn4hmFMB0",
        "outputId": "bca01ade-40ee-4385-985d-02085f1914f8"
      },
      "source": [
        "pedidos.valor_liquido.min() "
      ],
      "execution_count": 36,
      "outputs": [
        {
          "output_type": "execute_result",
          "data": {
            "text/plain": [
              "0.0"
            ]
          },
          "metadata": {
            "tags": []
          },
          "execution_count": 36
        }
      ]
    },
    {
      "cell_type": "markdown",
      "metadata": {
        "id": "xNTC6zPPGIjz"
      },
      "source": [
        "### Desvio: o qual distante o valor observado está da média/mediana\n",
        "\n",
        "### Variancia: é média dos desvios "
      ]
    },
    {
      "cell_type": "code",
      "metadata": {
        "colab": {
          "base_uri": "https://localhost:8080/"
        },
        "id": "xsr9sBQHIFLU",
        "outputId": "34177e88-5d3d-48f7-99be-70b4cce79261"
      },
      "source": [
        "pedidos.valor_liquido.std()"
      ],
      "execution_count": 37,
      "outputs": [
        {
          "output_type": "execute_result",
          "data": {
            "text/plain": [
              "6607.780386247811"
            ]
          },
          "metadata": {
            "tags": []
          },
          "execution_count": 37
        }
      ]
    },
    {
      "cell_type": "code",
      "metadata": {
        "colab": {
          "base_uri": "https://localhost:8080/"
        },
        "id": "Sgy3jP-uKgi5",
        "outputId": "87e50117-af0a-4215-8174-680c34f80888"
      },
      "source": [
        "pedidos.shape"
      ],
      "execution_count": 44,
      "outputs": [
        {
          "output_type": "execute_result",
          "data": {
            "text/plain": [
              "(10653, 30)"
            ]
          },
          "metadata": {
            "tags": []
          },
          "execution_count": 44
        }
      ]
    },
    {
      "cell_type": "code",
      "metadata": {
        "id": "UbqmVo56JXOp"
      },
      "source": [
        "pedidos_cortados = pedidos.loc[pedidos.valor_liquido <= 20000]"
      ],
      "execution_count": 50,
      "outputs": []
    },
    {
      "cell_type": "code",
      "metadata": {
        "colab": {
          "base_uri": "https://localhost:8080/"
        },
        "id": "sYt_0oWmJxPe",
        "outputId": "e4158269-ed57-45b9-fce4-7d0ac74598b8"
      },
      "source": [
        "pedidos_cortados.shape"
      ],
      "execution_count": 51,
      "outputs": [
        {
          "output_type": "execute_result",
          "data": {
            "text/plain": [
              "(10454, 30)"
            ]
          },
          "metadata": {
            "tags": []
          },
          "execution_count": 51
        }
      ]
    },
    {
      "cell_type": "code",
      "metadata": {
        "colab": {
          "base_uri": "https://localhost:8080/",
          "height": 282
        },
        "id": "6pm9q3SqK33B",
        "outputId": "5aeaacb7-7330-48c5-ee4f-63fdf83b00e0"
      },
      "source": [
        "pedidos.valor_liquido.hist(bins=45)"
      ],
      "execution_count": 49,
      "outputs": [
        {
          "output_type": "execute_result",
          "data": {
            "text/plain": [
              "<matplotlib.axes._subplots.AxesSubplot at 0x7f699c255590>"
            ]
          },
          "metadata": {
            "tags": []
          },
          "execution_count": 49
        },
        {
          "output_type": "display_data",
          "data": {
            "image/png": "[encoded data removed]",
            "text/plain": [
              "<Figure size 432x288 with 1 Axes>"
            ]
          },
          "metadata": {
            "tags": [],
            "needs_background": "light"
          }
        }
      ]
    },
    {
      "cell_type": "code",
      "metadata": {
        "colab": {
          "base_uri": "https://localhost:8080/"
        },
        "id": "7LxUGXj7MeiW",
        "outputId": "9ac5595e-2b19-4225-d574-e3d847f9817d"
      },
      "source": [
        "pedidos_cortados.valor_liquido.mean()"
      ],
      "execution_count": 53,
      "outputs": [
        {
          "output_type": "execute_result",
          "data": {
            "text/plain": [
              "2598.0306592787542"
            ]
          },
          "metadata": {
            "tags": []
          },
          "execution_count": 53
        }
      ]
    },
    {
      "cell_type": "code",
      "metadata": {
        "colab": {
          "base_uri": "https://localhost:8080/"
        },
        "id": "s9PWaS96MmmV",
        "outputId": "6e776c0a-d84a-425f-cb97-5732e30ab53a"
      },
      "source": [
        "pedidos_cortados.valor_liquido.median()"
      ],
      "execution_count": 54,
      "outputs": [
        {
          "output_type": "execute_result",
          "data": {
            "text/plain": [
              "1512.1001"
            ]
          },
          "metadata": {
            "tags": []
          },
          "execution_count": 54
        }
      ]
    },
    {
      "cell_type": "code",
      "metadata": {
        "colab": {
          "base_uri": "https://localhost:8080/"
        },
        "id": "hP-ZVmzZMu2K",
        "outputId": "095d252c-9f9d-4d23-e46d-726a2dbde3dd"
      },
      "source": [
        "pedidos_cortados.valor_liquido.std()"
      ],
      "execution_count": 55,
      "outputs": [
        {
          "output_type": "execute_result",
          "data": {
            "text/plain": [
              "3113.1753485696095"
            ]
          },
          "metadata": {
            "tags": []
          },
          "execution_count": 55
        }
      ]
    }
  ]
}